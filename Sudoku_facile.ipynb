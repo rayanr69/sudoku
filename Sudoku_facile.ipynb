{
 "cells": [
  {
   "cell_type": "markdown",
   "id": "1a8b6c33",
   "metadata": {},
   "source": [
    "Fonction permettant de verifier si un chiffre est bien unique par ligne, par colonne, et par bloc"
   ]
  },
  {
   "cell_type": "code",
   "execution_count": 23,
   "id": "ffd0fbfd",
   "metadata": {},
   "outputs": [],
   "source": [
    "def valid(grid, num, pos):\n",
    "    \n",
    "    #VERIFICATION PAR LIGNE\n",
    "    for row in range(len(grid[0])):\n",
    "        if grid[pos[0]][row] == num and pos[1] != row:\n",
    "            return False\n",
    "            \n",
    "    #VERIFICATION PAR LIGNE     \n",
    "    for row in range(len(grid[0])):\n",
    "        if grid[row][pos[1]] == num and pos[0] != row:\n",
    "            return False\n",
    "\n",
    "    #VERIFICATION PAR BLOC\n",
    "    bloc_x = pos[1] // 3 \n",
    "    bloc_y = pos[0] // 3\n",
    "\n",
    "    for row in range(bloc_y * 3, bloc_y * 3 + 3):\n",
    "        for col in range(bloc_x * 3, bloc_x * 3 + 3):\n",
    "            if grid[row][col] == num and (row, col) != pos:\n",
    "                return False\n",
    "    return True"
   ]
  },
  {
   "cell_type": "markdown",
   "id": "4219c26f",
   "metadata": {},
   "source": [
    "Fonction qui permet d'identifier les cases vides à remplacer"
   ]
  },
  {
   "cell_type": "code",
   "execution_count": 24,
   "id": "29cd8f5e",
   "metadata": {},
   "outputs": [],
   "source": [
    "def vide(grid):\n",
    "    for row in range(len(grid)):\n",
    "        for col in range(len(grid)):\n",
    "            if grid[row][col] == 0:\n",
    "                return (row, col)\n",
    "    return None"
   ]
  },
  {
   "cell_type": "markdown",
   "id": "48152daa",
   "metadata": {},
   "source": [
    "Fonction qui permet de verifier si une une grille de Sudoku à parfaitement été complétée"
   ]
  },
  {
   "cell_type": "code",
   "execution_count": 25,
   "id": "8ab32333",
   "metadata": {},
   "outputs": [],
   "source": [
    "def checker(grid):\n",
    "    possibility = vide(grid)\n",
    "    \n",
    "    if not possibility:\n",
    "        for row in range(len(grid)):\n",
    "            for col in range(len(grid)):\n",
    "                if valid(grid, grid[row][col], (row, col)) == False:\n",
    "                    return False\n",
    "    else:\n",
    "        return False\n",
    "    return True"
   ]
  },
  {
   "cell_type": "code",
   "execution_count": 44,
   "id": "acf9bc84",
   "metadata": {},
   "outputs": [],
   "source": [
    "grille_vide = [\n",
    "    [0, 0, 0, 0, 0, 2, 0, 0, 0],\n",
    "    [0, 0, 0, 0, 0, 0, 3, 0, 0],\n",
    "    [0, 0, 0, 1, 0, 0, 6, 0, 0],\n",
    "    [0, 0, 0, 0, 0, 0, 0, 0, 0],\n",
    "    [0, 4, 0, 0, 0, 0, 0, 0, 0],\n",
    "    [0, 0, 0, 0, 0, 0, 0, 9, 0],\n",
    "    [0, 0, 0, 0, 0, 0, 0, 0, 3],\n",
    "    [0, 0, 0, 0, 0, 0, 0, 0, 0],\n",
    "    [0, 0, 0, 0, 0, 0, 0, 0, 7]\n",
    "]\n",
    "grille_fausse = [\n",
    "    [5, 3, 4, 6, 7, 8, 9, 1, 2],\n",
    "    [6, 7, 2, 1, 9, 5, 3, 4, 8],\n",
    "    [1, 9, 8, 3, 4, 2, 5, 6, 7],\n",
    "    [8, 5, 9, 7, 6, 1, 4, 2, 3],\n",
    "    [4, 2, 6, 8, 5, 3, 7, 9, 1],\n",
    "    [7, 1, 3, 9, 2, 4, 8, 5, 6],\n",
    "    [9, 6, 1, 5, 3, 7, 2, 8, 4],\n",
    "    [2, 8, 7, 4, 1, 9, 6, 3, 5],\n",
    "    [3, 4, 5, 2, 8, 6, 1, 7, 3]  \n",
    "]\n",
    "\n",
    "grille_correct = [\n",
    " [1, 3, 4, 5, 6, 2, 7, 8, 9],\n",
    " [2, 5, 6, 7, 8, 9, 3, 1, 4],\n",
    " [7, 8, 9, 1, 3, 4, 6, 2, 5],\n",
    " [3, 1, 2, 4, 9, 5, 8, 7, 6],\n",
    " [9, 4, 7, 6, 1, 8, 5, 3, 2],\n",
    " [5, 6, 8, 2, 7, 3, 4, 9, 1],\n",
    " [4, 2, 1, 8, 5, 7, 9, 6, 3],\n",
    " [6, 7, 3, 9, 4, 1, 2, 5, 8],\n",
    " [8, 9, 5, 3, 2, 6, 1, 4, 7]\n",
    "]"
   ]
  },
  {
   "cell_type": "code",
   "execution_count": 33,
   "id": "b845a18a",
   "metadata": {},
   "outputs": [
    {
     "data": {
      "text/plain": [
       "False"
      ]
     },
     "execution_count": 33,
     "metadata": {},
     "output_type": "execute_result"
    }
   ],
   "source": [
    "checker(grille_vide)"
   ]
  },
  {
   "cell_type": "code",
   "execution_count": 28,
   "id": "d3a8e8ff",
   "metadata": {},
   "outputs": [
    {
     "data": {
      "text/plain": [
       "False"
      ]
     },
     "execution_count": 28,
     "metadata": {},
     "output_type": "execute_result"
    }
   ],
   "source": [
    "checker(grille_fausse)"
   ]
  },
  {
   "cell_type": "code",
   "execution_count": 46,
   "id": "6530d7ba",
   "metadata": {},
   "outputs": [
    {
     "data": {
      "text/plain": [
       "True"
      ]
     },
     "execution_count": 46,
     "metadata": {},
     "output_type": "execute_result"
    }
   ],
   "source": [
    "checker(grille_correct)"
   ]
  }
 ],
 "metadata": {
  "kernelspec": {
   "display_name": "Python 3 (ipykernel)",
   "language": "python",
   "name": "python3"
  },
  "language_info": {
   "codemirror_mode": {
    "name": "ipython",
    "version": 3
   },
   "file_extension": ".py",
   "mimetype": "text/x-python",
   "name": "python",
   "nbconvert_exporter": "python",
   "pygments_lexer": "ipython3",
   "version": "3.10.6"
  },
  "toc": {
   "base_numbering": 1,
   "nav_menu": {},
   "number_sections": true,
   "sideBar": true,
   "skip_h1_title": false,
   "title_cell": "Table of Contents",
   "title_sidebar": "Contents",
   "toc_cell": false,
   "toc_position": {},
   "toc_section_display": true,
   "toc_window_display": false
  }
 },
 "nbformat": 4,
 "nbformat_minor": 5
}
