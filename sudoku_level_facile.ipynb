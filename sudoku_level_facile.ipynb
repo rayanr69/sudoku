{
 "cells": [
  {
   "cell_type": "code",
   "execution_count": 6,
   "id": "f67fc289",
   "metadata": {},
   "outputs": [
    {
     "data": {
      "text/plain": [
       "True"
      ]
     },
     "execution_count": 6,
     "metadata": {},
     "output_type": "execute_result"
    }
   ],
   "source": [
    "grid =[     [1, 2, 3, 4, 5, 6, 7, 8, 9],     [2, 3, 4, 5, 6, 7, 8, 9, 1],     [3, 4, 5, 6, 7, 8, 9, 1, 2],     [4, 5, 6, 7, 8, 9, 1, 2, 3],     [5, 6, 7, 8, 9, 1, 2, 3, 4],     [6, 7, 8, 9, 1, 2, 3, 4, 5],     [7, 8, 9, 1, 2, 3, 4, 5, 6],     [8, 9, 1, 2, 3, 4, 5, 6, 7],     [9, 1, 2, 3, 4, 5, 6, 7, 8] ]\n",
    "\n",
    "def validator(grid):\n",
    "    for i in range(9): #verif ligne et colonne\n",
    "        column=[]\n",
    "        for j in range(9): #verif si un chiffre est présent plusieurs fois dans une ligne\n",
    "            if grid[i].count(j+1) > 1:\n",
    "                return False\n",
    "            if grid[j][i] in column: #verif si un chiffre est présent plusieurs fois dans une colonne\n",
    "                return False\n",
    "            column.append(grid[j][i])\n",
    "\n",
    "    for y0 in [0,3,6]: #verif sous-grille 3x3\n",
    "        for x0 in [0,3,6]:\n",
    "            subgrid = []\n",
    "            for i in range(0,3):\n",
    "                for j in range(0,3): #verif sous-grille 3x3 si un chiffre est plusieurs\n",
    "                    if grid[y0+i][x0+j] in subgrid:\n",
    "                        return False\n",
    "                    subgrid.append(grid[y0+i][x0+j])\n",
    "    return True\n",
    "\n",
    "validator(grid)\n"
   ]
  },
  {
   "cell_type": "code",
   "execution_count": null,
   "id": "beaa338e",
   "metadata": {},
   "outputs": [],
   "source": []
  }
 ],
 "metadata": {
  "kernelspec": {
   "display_name": "Python 3 (ipykernel)",
   "language": "python",
   "name": "python3"
  },
  "language_info": {
   "codemirror_mode": {
    "name": "ipython",
    "version": 3
   },
   "file_extension": ".py",
   "mimetype": "text/x-python",
   "name": "python",
   "nbconvert_exporter": "python",
   "pygments_lexer": "ipython3",
   "version": "3.10.6"
  },
  "toc": {
   "base_numbering": 1,
   "nav_menu": {},
   "number_sections": true,
   "sideBar": true,
   "skip_h1_title": false,
   "title_cell": "Table of Contents",
   "title_sidebar": "Contents",
   "toc_cell": false,
   "toc_position": {},
   "toc_section_display": true,
   "toc_window_display": false
  }
 },
 "nbformat": 4,
 "nbformat_minor": 5
}
