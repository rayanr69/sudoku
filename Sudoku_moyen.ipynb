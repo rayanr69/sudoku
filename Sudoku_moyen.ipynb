{
 "cells": [
  {
   "cell_type": "code",
   "execution_count": 3,
   "id": "8faa0921-486b-48a6-afd1-052cc8342d1d",
   "metadata": {},
   "outputs": [],
   "source": [
    "grille = [\n",
    "    [0, 0, 0, 0, 0, 2, 0, 0, 0],\n",
    "    [0, 0, 0, 0, 0, 0, 3, 0, 0],\n",
    "    [0, 0, 0, 1, 0, 0, 6, 0, 0],\n",
    "    [0, 0, 0, 0, 0, 0, 0, 0, 0],\n",
    "    [0, 4, 0, 0, 0, 0, 0, 0, 0],\n",
    "    [0, 0, 0, 0, 0, 0, 0, 9, 0],\n",
    "    [0, 0, 0, 0, 0, 0, 0, 0, 3],\n",
    "    [0, 0, 0, 0, 0, 0, 0, 0, 0],\n",
    "    [0, 0, 0, 0, 0, 0, 0, 0, 7]\n",
    "]\n",
    "grille_fausse = [\n",
    "    [5, 3, 4, 6, 7, 8, 9, 1, 2],\n",
    "    [6, 7, 2, 1, 9, 5, 3, 4, 8],\n",
    "    [1, 9, 8, 3, 4, 2, 5, 6, 7],\n",
    "    [8, 5, 9, 7, 6, 1, 4, 2, 3],\n",
    "    [4, 2, 6, 8, 5, 3, 7, 9, 1],\n",
    "    [7, 1, 3, 9, 2, 4, 8, 5, 6],\n",
    "    [9, 6, 1, 5, 3, 7, 2, 8, 4],\n",
    "    [2, 8, 7, 4, 1, 9, 6, 3, 5],\n",
    "    [3, 4, 5, 2, 8, 6, 1, 7, 3]  \n",
    "]"
   ]
  },
  {
   "cell_type": "markdown",
   "id": "24bdfde0-c550-4449-87a3-573d6594194a",
   "metadata": {},
   "source": [
    "Fonction permettant d'afficher une grille de Sudoku avec des blocs 3x3"
   ]
  },
  {
   "cell_type": "code",
   "execution_count": 4,
   "id": "c07c0c80-af56-4d42-8f43-86a6808bbb72",
   "metadata": {},
   "outputs": [
    {
     "name": "stdout",
     "output_type": "stream",
     "text": [
      "0 0 0  | 0 0 2  | 0 0 0\n",
      "0 0 0  | 0 0 0  | 3 0 0\n",
      "0 0 0  | 1 0 0  | 6 0 0\n",
      "- - - - - - - - - - - - \n",
      "0 0 0  | 0 0 0  | 0 0 0\n",
      "0 4 0  | 0 0 0  | 0 0 0\n",
      "0 0 0  | 0 0 0  | 0 9 0\n",
      "- - - - - - - - - - - - \n",
      "0 0 0  | 0 0 0  | 0 0 3\n",
      "0 0 0  | 0 0 0  | 0 0 0\n",
      "0 0 0  | 0 0 0  | 0 0 7\n"
     ]
    }
   ],
   "source": [
    "def sudoku(grid):\n",
    "    for row in range(len(grid)):\n",
    "        if row % 3 == 0 and row != 0:\n",
    "            print(\"- - - - - - - - - - - - \")\n",
    "        for col  in range(len(grid[0])):\n",
    "            if col  % 3 == 0 and col  != 0:\n",
    "                print(\" | \", end=\"\")\n",
    "            if col  == 8:\n",
    "                print(grid[row][col])\n",
    "            else:\n",
    "                print(str(grid[row][col]) + \" \", end=\"\")\n",
    "\n",
    "sudoku(grille)"
   ]
  },
  {
   "cell_type": "markdown",
   "id": "7bd5bc7b-9e88-4bb4-b414-11b57a8b6f1c",
   "metadata": {},
   "source": [
    "Fonction permettant de verifier si un chiffre est bien unique par ligne, par colonne, et par bloc"
   ]
  },
  {
   "cell_type": "code",
   "execution_count": 5,
   "id": "b936d1c2-c11d-466c-986e-d91d266fbd30",
   "metadata": {},
   "outputs": [],
   "source": [
    "def valid(grid, num, pos):\n",
    "    \n",
    "    #VERIFICATION PAR LIGNE\n",
    "    for row in range(len(grid[0])):\n",
    "        if grid[pos[0]][row] == num and pos[1] != row:\n",
    "            return False\n",
    "            \n",
    "    #VERIFICATION PAR LIGNE     \n",
    "    for row in range(len(grid[0])):\n",
    "        if grid[row][pos[1]] == num and pos[0] != row:\n",
    "            return False\n",
    "\n",
    "    #VERIFICATION PAR BLOC\n",
    "    bloc_x = pos[1] // 3 \n",
    "    bloc_y = pos[0] // 3\n",
    "\n",
    "    for row in range(bloc_y * 3, bloc_y * 3 + 3):\n",
    "        for col in range(bloc_x * 3, bloc_x * 3 + 3):\n",
    "            if grid[row][col] == num and (row, col) != pos:\n",
    "                return False\n",
    "    return True"
   ]
  },
  {
   "cell_type": "markdown",
   "id": "60b86ed4-d1a3-4071-b85d-cfb8c3ac80d4",
   "metadata": {},
   "source": [
    "Fonction qui permet d'identifier les cases vides à remplacer"
   ]
  },
  {
   "cell_type": "code",
   "execution_count": 6,
   "id": "5d966c58-6f76-4a64-ad43-3d4d676ff9f0",
   "metadata": {},
   "outputs": [],
   "source": [
    "def vide(grid):\n",
    "    for row in range(len(grid)):\n",
    "        for col in range(len(grid)):\n",
    "            if grid[row][col] == 0:\n",
    "                return (row, col)\n",
    "    return None"
   ]
  },
  {
   "cell_type": "markdown",
   "id": "fe9c824b-ab63-4c7b-9756-ca27404a82e5",
   "metadata": {},
   "source": [
    "Fonction qui permet de résoudre une grille de Sudoku grâce au BackTracking"
   ]
  },
  {
   "cell_type": "code",
   "execution_count": 7,
   "id": "da0a059d-b8b2-496c-9607-2a9ab01694d0",
   "metadata": {},
   "outputs": [],
   "source": [
    "def solver(grid):\n",
    "    possibility = vide(grid)\n",
    "    \n",
    "    if not possibility:\n",
    "        return True\n",
    "        \n",
    "    else:\n",
    "        row, col = possibility\n",
    "        \n",
    "    for i in range(1, 10):\n",
    "        \n",
    "        if valid(grid, i, (row, col)):\n",
    "            grid[row][col] = i\n",
    "            \n",
    "            if solver(grid):\n",
    "                return True\n",
    "                \n",
    "            grid[row][col] = 0  \n",
    "            \n",
    "    return False"
   ]
  },
  {
   "cell_type": "markdown",
   "id": "6a09fb0d-24fe-4621-838b-adc3d23edd44",
   "metadata": {},
   "source": [
    "Fonction qui permet de verifier si une une grille de Sudoku à parfaitement été complétée"
   ]
  },
  {
   "cell_type": "code",
   "execution_count": 8,
   "id": "736f400f-04b4-438c-95c0-726103b0e55d",
   "metadata": {},
   "outputs": [],
   "source": [
    "def checker(grid):\n",
    "    possibility = vide(grid)\n",
    "    \n",
    "    if not possibility:\n",
    "        for row in range(len(grid)):\n",
    "            for col in range(len(grid)):\n",
    "                if valid(grid, grid[row][col], (row, col)) == False:\n",
    "                    return False\n",
    "    else:\n",
    "        return False\n",
    "    return True"
   ]
  },
  {
   "cell_type": "code",
   "execution_count": 9,
   "id": "dba916a7-36b8-498d-a533-47c633dd893e",
   "metadata": {},
   "outputs": [
    {
     "name": "stdout",
     "output_type": "stream",
     "text": [
      "0 0 0  | 0 0 2  | 0 0 0\n",
      "0 0 0  | 0 0 0  | 3 0 0\n",
      "0 0 0  | 1 0 0  | 6 0 0\n",
      "- - - - - - - - - - - - \n",
      "0 0 0  | 0 0 0  | 0 0 0\n",
      "0 4 0  | 0 0 0  | 0 0 0\n",
      "0 0 0  | 0 0 0  | 0 9 0\n",
      "- - - - - - - - - - - - \n",
      "0 0 0  | 0 0 0  | 0 0 3\n",
      "0 0 0  | 0 0 0  | 0 0 0\n",
      "0 0 0  | 0 0 0  | 0 0 7\n"
     ]
    }
   ],
   "source": [
    "sudoku(grille)"
   ]
  },
  {
   "cell_type": "code",
   "execution_count": 10,
   "id": "81d6eee6-9211-4070-b677-cf64a1728e26",
   "metadata": {},
   "outputs": [
    {
     "data": {
      "text/plain": [
       "True"
      ]
     },
     "execution_count": 10,
     "metadata": {},
     "output_type": "execute_result"
    }
   ],
   "source": [
    "solver(grille)"
   ]
  },
  {
   "cell_type": "code",
   "execution_count": 14,
   "id": "743d07c7-2071-4a09-84ed-b409a0c0fda4",
   "metadata": {},
   "outputs": [
    {
     "data": {
      "text/plain": [
       "[[1, 3, 4, 5, 6, 2, 7, 8, 9],\n",
       " [2, 5, 6, 7, 8, 9, 3, 1, 4],\n",
       " [7, 8, 9, 1, 3, 4, 6, 2, 5],\n",
       " [3, 1, 2, 4, 9, 5, 8, 7, 6],\n",
       " [9, 4, 7, 6, 1, 8, 5, 3, 2],\n",
       " [5, 6, 8, 2, 7, 3, 4, 9, 1],\n",
       " [4, 2, 1, 8, 5, 7, 9, 6, 3],\n",
       " [6, 7, 3, 9, 4, 1, 2, 5, 8],\n",
       " [8, 9, 5, 3, 2, 6, 1, 4, 7]]"
      ]
     },
     "execution_count": 14,
     "metadata": {},
     "output_type": "execute_result"
    }
   ],
   "source": [
    "grille"
   ]
  },
  {
   "cell_type": "code",
   "execution_count": 11,
   "id": "49eee812-643b-4247-8a32-a794cd3255d2",
   "metadata": {},
   "outputs": [
    {
     "data": {
      "text/plain": [
       "True"
      ]
     },
     "execution_count": 11,
     "metadata": {},
     "output_type": "execute_result"
    }
   ],
   "source": [
    "checker(grille)"
   ]
  },
  {
   "cell_type": "code",
   "execution_count": 12,
   "id": "830b84a4-da0f-4e96-9f23-ed18d72c1ba6",
   "metadata": {},
   "outputs": [
    {
     "data": {
      "text/plain": [
       "False"
      ]
     },
     "execution_count": 12,
     "metadata": {},
     "output_type": "execute_result"
    }
   ],
   "source": [
    "checker(grille_fausse)"
   ]
  },
  {
   "cell_type": "code",
   "execution_count": null,
   "id": "f0779e75",
   "metadata": {},
   "outputs": [],
   "source": []
  },
  {
   "cell_type": "code",
   "execution_count": null,
   "id": "758adc7c",
   "metadata": {},
   "outputs": [],
   "source": []
  }
 ],
 "metadata": {
  "kernelspec": {
   "display_name": "Python 3 (ipykernel)",
   "language": "python",
   "name": "python3"
  },
  "language_info": {
   "codemirror_mode": {
    "name": "ipython",
    "version": 3
   },
   "file_extension": ".py",
   "mimetype": "text/x-python",
   "name": "python",
   "nbconvert_exporter": "python",
   "pygments_lexer": "ipython3",
   "version": "3.10.6"
  },
  "toc": {
   "base_numbering": 1,
   "nav_menu": {},
   "number_sections": true,
   "sideBar": true,
   "skip_h1_title": false,
   "title_cell": "Table of Contents",
   "title_sidebar": "Contents",
   "toc_cell": false,
   "toc_position": {},
   "toc_section_display": true,
   "toc_window_display": false
  }
 },
 "nbformat": 4,
 "nbformat_minor": 5
}
